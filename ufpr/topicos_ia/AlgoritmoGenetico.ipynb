{
  "nbformat": 4,
  "nbformat_minor": 0,
  "metadata": {
    "colab": {
      "name": "AlgoritmoGenetico.ipynb",
      "provenance": [],
      "collapsed_sections": []
    },
    "kernelspec": {
      "name": "python3",
      "display_name": "Python 3"
    },
    "language_info": {
      "name": "python"
    }
  },
  "cells": [
    {
      "cell_type": "markdown",
      "metadata": {
        "id": "zkSV9d3bXm5d"
      },
      "source": [
        "Considere uma equação no formato **ax^2+bx+c=0**\n",
        "\n",
        "\n",
        "|X |Eq|\n",
        "|:-- |:-- |\n",
        "|1 |11|\n",
        "|2 |21|\n",
        "|3 |35|\n",
        "|4 |53|\n",
        "|5 |75|\n",
        "\n",
        "\n",
        "Desenvolva um algoritmo para encontrar os valores de a,b e c.\n",
        "Considere a faixa de valores de 0 a 10."
      ]
    },
    {
      "cell_type": "code",
      "metadata": {
        "id": "aoD7A3kcZ6NB"
      },
      "source": [
        "from random import choices, randint, randrange, random\n",
        "from typing import List, Tuple\n",
        "from enum import Enum"
      ],
      "execution_count": null,
      "outputs": []
    },
    {
      "cell_type": "code",
      "metadata": {
        "id": "nRyHixzGjind"
      },
      "source": [
        "class fitness_function_variables(Enum):\n",
        "  A = 0\n",
        "  B = 1\n",
        "  C = 2\n",
        "  X = 3"
      ],
      "execution_count": null,
      "outputs": []
    },
    {
      "cell_type": "code",
      "metadata": {
        "id": "ACSvRKY43bK_"
      },
      "source": [
        "Genome = List[int]\n",
        "Population = List[Genome]\n",
        "X_values = [11,21,35,53,75]\n",
        "genome_length = 3"
      ],
      "execution_count": null,
      "outputs": []
    },
    {
      "cell_type": "markdown",
      "metadata": {
        "id": "PfKE7051PhjE"
      },
      "source": [
        "### Inicialização da População"
      ]
    },
    {
      "cell_type": "code",
      "metadata": {
        "id": "umFfriXDdL1l"
      },
      "source": [
        "def generate_genome_X() -> int:\n",
        "    # Gera os valores aleatórios com base no X_values\n",
        "    return choices([value for value in X_values], k=1)[0]"
      ],
      "execution_count": null,
      "outputs": []
    },
    {
      "cell_type": "code",
      "metadata": {
        "id": "qVZE2TC4ZGpR"
      },
      "source": [
        "def generate_genome(length: int) -> Genome:\n",
        "    # Gera os valores aleatórios de 0 a 10 para as variáveis A, B e C\n",
        "    return choices([value for value in range(10)], k=length)"
      ],
      "execution_count": null,
      "outputs": []
    },
    {
      "cell_type": "code",
      "metadata": {
        "id": "lgjXamFTZ2SA"
      },
      "source": [
        "def generate_population(genome_length: int) -> Population:\n",
        "  # Gera a popução com base no tamanho da variável X informada no exercício\n",
        "  # seguindo a ordem: A, B, C e X\n",
        "  population = [generate_genome(genome_length) for _ in range(len(X_values))]\n",
        "  for genome in population:\n",
        "    genome.append(generate_genome_X())\n",
        "  return population"
      ],
      "execution_count": null,
      "outputs": []
    },
    {
      "cell_type": "markdown",
      "metadata": {
        "id": "dk3rpB1FPhus"
      },
      "source": [
        "## Avaliação de cada individuo"
      ]
    },
    {
      "cell_type": "code",
      "metadata": {
        "id": "fN-JjyWUizN1"
      },
      "source": [
        "def population_fitness(population: Population) -> List[int]:\n",
        "  # ax^2+bx+c=0, seguindo a ordem: A, B, C e X\n",
        "    index = fitness_function_variables\n",
        "    fitness = []\n",
        "    for genome in population:\n",
        "      result = genome[index.A.value] * pow(genome[index.X.value], 2) + genome[index.B.value] * genome[index.X.value] + genome[index.C.value] \n",
        "      if result == 0:        \n",
        "        print(f'Resultado encontrado com o gene: {genome}')\n",
        "      fitness.append(result)\n",
        "    return fitness"
      ],
      "execution_count": null,
      "outputs": []
    },
    {
      "cell_type": "markdown",
      "metadata": {
        "id": "mgzI2gk2PhxZ"
      },
      "source": [
        "## Seleção de alguns individuos\n"
      ]
    },
    {
      "cell_type": "code",
      "metadata": {
        "id": "2U3T-JDv2XNJ"
      },
      "source": [
        "def selection_pair(population: Population, fitness: List[int]) -> Tuple[Genome, Genome, int]:\n",
        "  # Irá selecionar os 2 melhores genomas\n",
        "  zipped_fitness = list(zip([_ for _ in range(len(fitness))],fitness))\n",
        "  zipped_fitness = sorted(zipped_fitness, key = lambda x: x[1])\n",
        "\n",
        "  selected_index = []\n",
        "  for index in zipped_fitness[:3]:\n",
        "    selected_index.append(index[0])\n",
        "\n",
        "  return (population[selected_index[0]], population[selected_index[1]]), fitness[selected_index[0]]"
      ],
      "execution_count": null,
      "outputs": []
    },
    {
      "cell_type": "markdown",
      "metadata": {
        "id": "xvvTFApgPh0l"
      },
      "source": [
        "## Cross-over e mutação"
      ]
    },
    {
      "cell_type": "code",
      "metadata": {
        "id": "DPZjNn30oGIF"
      },
      "source": [
        "def crossover(a: Genome, b: Genome) -> Tuple[Genome, Genome]:\n",
        "  # Faz o cross com base em um index aleatorio para cada \n",
        "  random_index = randint(0, len(a))\n",
        "  return a[0:random_index] + b[random_index:], b[0:random_index] + a[random_index:]"
      ],
      "execution_count": null,
      "outputs": []
    },
    {
      "cell_type": "code",
      "metadata": {
        "id": "W75v3g5OyJrn"
      },
      "source": [
        "def mutation(genome: Genome, probability: float = 0.5) -> Genome:\n",
        "    \"\"\" \n",
        "      Faz a mutacao de um Genoma, diminuindo 1 de um index aleatorio do genome\n",
        "      que não seja o X_value. Também valida para não passar dos extremos 0 e 10\n",
        "    \"\"\"\n",
        "    # O index corresponte a posição do Genome a sofrer mutação\n",
        "    index = randrange(0, len(genome))\n",
        "    if random() > probability:\n",
        "      if index == 3:\n",
        "        mutation_value = X_mutation(genome[index])\n",
        "      else:\n",
        "        # Randomiza um valor para mutação\n",
        "        while True:\n",
        "          mutation_value = randint(0, 10)\n",
        "          if mutation_value != genome[index]:\n",
        "            break\n",
        "      genome[index] = mutation_value\n",
        "\n",
        "      return genome\n",
        "    else:\n",
        "      return genome"
      ],
      "execution_count": null,
      "outputs": []
    },
    {
      "cell_type": "code",
      "metadata": {
        "id": "HjAGuzDqKCmF"
      },
      "source": [
        "def X_mutation(X_atual: int) -> int:\n",
        "  \"\"\" Função para randomizar o X \"\"\"\n",
        "  X_possiveis = X_values.copy()\n",
        "  X_possiveis.remove(X_atual)\n",
        "  index = randrange(0, len(X_possiveis))\n",
        "  return X_possiveis[index]"
      ],
      "execution_count": null,
      "outputs": []
    },
    {
      "cell_type": "markdown",
      "metadata": {
        "id": "JVywqWQHPh2v"
      },
      "source": [
        "## Concepção da nova gen"
      ]
    },
    {
      "cell_type": "code",
      "metadata": {
        "id": "oU8ZqjjkIYsS"
      },
      "source": [
        "def new_generation(best_pop: Tuple[Genome, Genome], pop_size: int = 5) -> Population:\n",
        "  # Criando a nova população\n",
        "  new_population = []\n",
        "  for i in range(len(best_pop)):\n",
        "    new_population.append(best_pop[i])\n",
        "\n",
        "  # Loop para gerar os demais genomas além dos 2 best fit\n",
        "  while(len(new_population) < pop_size):\n",
        "    new_gen_a, new_gen_b = crossover(best_pop[0], best_pop[1])\n",
        "    new_population.append(new_gen_a)\n",
        "    new_population.append(new_gen_b)\n",
        "\n",
        "    # Validações para gerar a nova população do mesmo tamanho que a original\n",
        "    if len(new_population) > pop_size:\n",
        "      new_population.pop()\n",
        "  return new_population"
      ],
      "execution_count": null,
      "outputs": []
    },
    {
      "cell_type": "markdown",
      "metadata": {
        "id": "dcBD5WfcaN2M"
      },
      "source": [
        "## Execução"
      ]
    },
    {
      "cell_type": "code",
      "metadata": {
        "id": "nrP6doZCaDPh"
      },
      "source": [
        "def run_gen(population: Population) -> Population:\n",
        "  fitness = population_fitness(population)\n",
        "  best_pair, best_fit = selection_pair(population, fitness)\n",
        "  new_pop = new_generation(best_pair)\n",
        "  mutated_pop = []\n",
        "  for genome in new_pop:\n",
        "    mutated_pop.append(mutation(genome.copy()))  \n",
        "\n",
        "  return best_pair[0], best_fit, mutated_pop"
      ],
      "execution_count": null,
      "outputs": []
    },
    {
      "cell_type": "code",
      "metadata": {
        "id": "-UjNWfDDnGdY",
        "colab": {
          "base_uri": "https://localhost:8080/"
        },
        "outputId": "c39958d6-6a89-4685-87a3-5a985494d36e"
      },
      "source": [
        "population = population = generate_population(genome_length)\n",
        "top_genome = None\n",
        "top_fit = None\n",
        "on_geneneration = None\n",
        "\n",
        "for gen in range(100):\n",
        "  best_genome, best_fit, population  = run_gen(population)\n",
        "  print(f'Generation: {gen} | Best Fit: {best_fit} | Genome: {best_genome}')\n",
        "  if top_fit is None:\n",
        "    top_fit = best_fit\n",
        "    top_genome = best_genome\n",
        "    on_geneneration = gen\n",
        "  elif best_fit < top_fit:\n",
        "    top_fit = best_fit\n",
        "    top_genome = best_genome\n",
        "    on_geneneration = gen\n",
        "\n",
        "  if best_fit == 0:\n",
        "    break\n",
        "\n",
        "print(f'Best results found on {on_geneneration} generation with ' \\\n",
        "  f'fitness of {top_fit} on {top_genome} genome')"
      ],
      "execution_count": null,
      "outputs": [
        {
          "output_type": "stream",
          "text": [
            "Generation: 0 | Best Fit: 146 | Genome: [0, 4, 6, 35]\n",
            "Generation: 1 | Best Fit: 36 | Genome: [0, 3, 3, 11]\n",
            "Generation: 2 | Best Fit: 36 | Genome: [0, 3, 3, 11]\n",
            "Generation: 3 | Best Fit: 36 | Genome: [0, 3, 3, 11]\n",
            "Generation: 4 | Best Fit: 36 | Genome: [0, 3, 3, 11]\n",
            "Generation: 5 | Best Fit: 36 | Genome: [0, 3, 3, 11]\n",
            "Generation: 6 | Best Fit: 36 | Genome: [0, 3, 3, 11]\n",
            "Generation: 7 | Best Fit: 25 | Genome: [0, 2, 3, 11]\n",
            "Generation: 8 | Best Fit: 25 | Genome: [0, 2, 3, 11]\n",
            "Generation: 9 | Best Fit: 23 | Genome: [0, 2, 1, 11]\n",
            "Generation: 10 | Best Fit: 14 | Genome: [0, 1, 3, 11]\n",
            "Generation: 11 | Best Fit: 14 | Genome: [0, 1, 3, 11]\n",
            "Generation: 12 | Best Fit: 14 | Genome: [0, 1, 3, 11]\n",
            "Generation: 13 | Best Fit: 15 | Genome: [0, 1, 4, 11]\n",
            "Generation: 14 | Best Fit: 15 | Genome: [0, 1, 4, 11]\n",
            "Generation: 15 | Best Fit: 11 | Genome: [0, 1, 0, 11]\n",
            "Generation: 16 | Best Fit: 11 | Genome: [0, 1, 0, 11]\n",
            "Generation: 17 | Best Fit: 11 | Genome: [0, 1, 0, 11]\n",
            "Generation: 18 | Best Fit: 11 | Genome: [0, 1, 0, 11]\n",
            "Generation: 19 | Best Fit: 11 | Genome: [0, 1, 0, 11]\n",
            "Resultado encontrado com o gene: [0, 0, 0, 11]\n",
            "Generation: 20 | Best Fit: 0 | Genome: [0, 0, 0, 11]\n",
            "Best results found on 20 generation with fitness of 0 on [0, 0, 0, 11] genome\n"
          ],
          "name": "stdout"
        }
      ]
    },
    {
      "cell_type": "code",
      "metadata": {
        "id": "jRdKwzgQcncV"
      },
      "source": [
        ""
      ],
      "execution_count": null,
      "outputs": []
    }
  ]
}