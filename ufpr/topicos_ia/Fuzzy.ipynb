{
  "nbformat": 4,
  "nbformat_minor": 0,
  "metadata": {
    "colab": {
      "name": "Fuzzy.ipynb",
      "provenance": [],
      "collapsed_sections": []
    },
    "kernelspec": {
      "name": "python3",
      "display_name": "Python 3"
    },
    "language_info": {
      "name": "python"
    }
  },
  "cells": [
    {
      "cell_type": "markdown",
      "metadata": {
        "id": "QyDnuaHz3OnV"
      },
      "source": [
        "Lógica fuzzy: escrevam as funções de fuzzificação e postem no fórum abaixo. Serão duas funções, a triangular e uma trapezoide. A triangular receberá um parâmetro d indicando o tamanho da vizinha, a função deverá retornar um vetor com 2d+1 graus de perticinência para a vizinhança d."
      ]
    },
    {
      "cell_type": "code",
      "metadata": {
        "id": "mLoNWYF_3PZb"
      },
      "source": [
        "def fuzzy_triangular(d: int):\n",
        "  result = []\n",
        "  increment_value = 1 / (d+1) \n",
        "  for i in range(d):\n",
        "    if i == 0:\n",
        "      result.append(1)\n",
        "    multiplicador = abs(d - i)\n",
        "    result.append(increment_value * multiplicador)\n",
        "\n",
        "  result.sort()\n",
        "  result = [round(value, 4) for value in result]\n",
        "  right = result[:-1].copy()\n",
        "  right.reverse()\n",
        "\n",
        "  # Unifica as listas\n",
        "  result = result + right\n",
        "\n",
        "  if len(result) != 2 * d + 1:\n",
        "    raise Exception(f\"Tamanho da vizinhança errada! {result}\")\n",
        "  return result"
      ],
      "execution_count": null,
      "outputs": []
    },
    {
      "cell_type": "code",
      "metadata": {
        "colab": {
          "base_uri": "https://localhost:8080/"
        },
        "id": "dZfFqmH6fdaQ",
        "outputId": "746ff5bd-78c6-45c9-e9af-e69ddf69c29a"
      },
      "source": [
        "print(fuzzy_triangular(3))\n",
        "print(fuzzy_triangular(5))"
      ],
      "execution_count": null,
      "outputs": [
        {
          "output_type": "stream",
          "text": [
            "[0.25, 0.5, 0.75, 1, 0.75, 0.5, 0.25]\n",
            "[0.1667, 0.3333, 0.5, 0.6667, 0.8333, 1, 0.8333, 0.6667, 0.5, 0.3333, 0.1667]\n"
          ],
          "name": "stdout"
        }
      ]
    },
    {
      "cell_type": "markdown",
      "metadata": {
        "id": "zUm8r0tf3lf3"
      },
      "source": [
        "Na função trapezoide deverá ser informado esq,plato,dir. A soma dos três parâmetros indicam o tamanho do vetor de retorno. Os graus de pertinencia na região do plato será sempre 1 e os valores da esq e dir seguirão os graus de pertinencia proporcionais."
      ]
    },
    {
      "cell_type": "code",
      "metadata": {
        "id": "drjC0IrT3gO7"
      },
      "source": [
        "def fuzzy_trapazoide(esq, plato, dir):\n",
        "  # Plato\n",
        "  plato_values = []\n",
        "  plato_values = [1 for _ in range(plato)]\n",
        "  \n",
        "  # Esquerda\n",
        "  esq_increment_value = 1 / (esq + 1)\n",
        "  esq_values = []\n",
        "  for i in range(esq):\n",
        "    multiplicador = abs(esq - i)\n",
        "    esq_values.append(esq_increment_value * multiplicador)    \n",
        "  esq_values.reverse()\n",
        "\n",
        "  # Direita\n",
        "  dir_increment_value = 1 / (dir + 1)\n",
        "  dir_values = []\n",
        "  for i in range(dir):\n",
        "    multiplicador = abs(dir - i)\n",
        "    dir_values.append(dir_increment_value * multiplicador)    \n",
        "\n",
        "  # Juntando as listas\n",
        "  result = esq_values + plato_values + dir_values\n",
        "  result = [round(value, 4) for value in result]\n",
        "\n",
        "  if len(result) != esq + plato + dir:\n",
        "    raise Exception(f\"Tamanho da vizinhança errada! {result}\")\n",
        "  return result"
      ],
      "execution_count": null,
      "outputs": []
    },
    {
      "cell_type": "code",
      "metadata": {
        "colab": {
          "base_uri": "https://localhost:8080/"
        },
        "id": "16HayDTra6_n",
        "outputId": "2053eb12-75f4-4015-b61e-1c9901f5f85d"
      },
      "source": [
        "print(fuzzy_trapazoide(3,1,5))\n",
        "print(fuzzy_trapazoide(2,5,2))"
      ],
      "execution_count": null,
      "outputs": [
        {
          "output_type": "stream",
          "text": [
            "[0.25, 0.5, 0.75, 1, 0.8333, 0.6667, 0.5, 0.3333, 0.1667]\n",
            "[0.3333, 0.6667, 1, 1, 1, 1, 1, 0.6667, 0.3333]\n"
          ],
          "name": "stdout"
        }
      ]
    },
    {
      "cell_type": "code",
      "metadata": {
        "id": "5aZMo8V2L5NY"
      },
      "source": [
        ""
      ],
      "execution_count": null,
      "outputs": []
    }
  ]
}