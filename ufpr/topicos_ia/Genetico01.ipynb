{
  "nbformat": 4,
  "nbformat_minor": 0,
  "metadata": {
    "colab": {
      "name": "Genetico01.ipynb",
      "provenance": [],
      "collapsed_sections": []
    },
    "kernelspec": {
      "name": "python3",
      "display_name": "Python 3"
    },
    "language_info": {
      "name": "python"
    }
  },
  "cells": [
    {
      "cell_type": "code",
      "metadata": {
        "id": "GJJw47PB5h17"
      },
      "source": [
        "from random import choices, randint, randrange, random\n",
        "from typing import List, Tuple"
      ],
      "execution_count": 1,
      "outputs": []
    },
    {
      "cell_type": "code",
      "metadata": {
        "id": "jPajXvPY5lTC"
      },
      "source": [
        "Population = List[int]\n",
        "population_length = 4"
      ],
      "execution_count": 2,
      "outputs": []
    },
    {
      "cell_type": "markdown",
      "metadata": {
        "id": "23oA3Oul96LG"
      },
      "source": [
        "## Conversões"
      ]
    },
    {
      "cell_type": "code",
      "metadata": {
        "id": "Sh_0pwjA95KG"
      },
      "source": [
        "def int_to_bit(valor: int) -> List[int]:\n",
        "  res = []\n",
        "  for i in range(0,32):\n",
        "    if valor & (0x01<<i) > 0:\n",
        "      res.insert(0,1)\n",
        "    else:\n",
        "      res.insert(0,0)\n",
        "  return res"
      ],
      "execution_count": 83,
      "outputs": []
    },
    {
      "cell_type": "code",
      "metadata": {
        "id": "c95fNRYw-I4K"
      },
      "source": [
        "def bit_to_int(bit: List[int]):\n",
        "  num = 0\n",
        "  if bit[0] == 1:\n",
        "    # num negativos\n",
        "    for i in range(1,32):\n",
        "      if bit[i]==0:\n",
        "        num = num + 2**(31-i)\n",
        "    num = -1 - num\n",
        "  else:\n",
        "    for i in range(1,32):\n",
        "      if bit[i]>0:\n",
        "        num = num + 2**(31-i)\n",
        "  return num"
      ],
      "execution_count": 84,
      "outputs": []
    },
    {
      "cell_type": "markdown",
      "metadata": {
        "id": "pa5L2oTw5vsX"
      },
      "source": [
        "## Inicialização da População"
      ]
    },
    {
      "cell_type": "code",
      "metadata": {
        "id": "PWYVN-DM5r3I"
      },
      "source": [
        "def generate_population(population_length: int) -> Population:\n",
        "  return [randint(-10, 10) for _ in range(population_length)]"
      ],
      "execution_count": 85,
      "outputs": []
    },
    {
      "cell_type": "markdown",
      "metadata": {
        "id": "kxElUENk7bep"
      },
      "source": [
        "## Avaliação de cada individuo"
      ]
    },
    {
      "cell_type": "code",
      "metadata": {
        "id": "MJai2Fwv7a7s"
      },
      "source": [
        "def population_fitness(population: Population) -> List[int]:\n",
        "  fitness = []\n",
        "  for value in population:\n",
        "    fit = value * value -3 * value + 4\n",
        "    fitness.append(abs(fit))\n",
        "  return fitness"
      ],
      "execution_count": 86,
      "outputs": []
    },
    {
      "cell_type": "markdown",
      "metadata": {
        "id": "I24RhqYY8noE"
      },
      "source": [
        "## Seleção de alguns individuos\n"
      ]
    },
    {
      "cell_type": "code",
      "metadata": {
        "id": "7Ceg9fnJ8-ej"
      },
      "source": [
        "def selection_pair(population: Population, fitness: List[int]) -> Tuple[int, int]:\n",
        "  # Irá selecionar os 2 melhores genomas\n",
        "  zipped_fitness = list(zip([_ for _ in range(len(fitness))],fitness))\n",
        "  zipped_fitness = sorted(zipped_fitness, key = lambda x: x[1])\n",
        "\n",
        "  selected_index = []\n",
        "  for index in zipped_fitness[:2]:\n",
        "    selected_index.append(index[0])\n",
        "\n",
        "  return [population[selected_index[0]], population[selected_index[1]]], fitness[selected_index[0]]"
      ],
      "execution_count": 87,
      "outputs": []
    },
    {
      "cell_type": "markdown",
      "metadata": {
        "id": "t17UQgaxTYKH"
      },
      "source": [
        "## Nova gen"
      ]
    },
    {
      "cell_type": "code",
      "metadata": {
        "id": "jVp6wI0QTaoG"
      },
      "source": [
        "def new_generation(best_pop: List[int], pop_size: int = 4) -> Population:\n",
        "  # Criando a nova população\n",
        "  new_population = best_pop.copy()\n",
        "\n",
        "  # # Loop para gerar os demais genomas além dos 2 best fit\n",
        "  while(len(new_population) < pop_size):\n",
        "    new_gen_a, new_gen_b = crossover(best_pop)\n",
        "    new_population.append(new_gen_a)\n",
        "    new_population.append(new_gen_b)\n",
        "\n",
        "  #   # Validações para gerar a nova população do mesmo tamanho que a original\n",
        "    if len(new_population) > pop_size:\n",
        "      new_population.pop()\n",
        "  return new_population"
      ],
      "execution_count": 88,
      "outputs": []
    },
    {
      "cell_type": "markdown",
      "metadata": {
        "id": "FCBQXb87A6At"
      },
      "source": [
        "## Cross-over e mutação"
      ]
    },
    {
      "cell_type": "code",
      "metadata": {
        "id": "E_7ahpI8A6_F"
      },
      "source": [
        "def crossover(pair: List[int], cross_rate: float = 0.6) -> int:\n",
        "  if len(pair) != 2:\n",
        "    raise Exception(f\"pair diferente de 2: {len(pair)}\")\n",
        "\n",
        "  if random() >= cross_rate:\n",
        "    bit_a =  int_to_bit(pair[0])\n",
        "    bit_b =  int_to_bit(pair[1])    \n",
        "    novo_a = None\n",
        "    novo_b = None\n",
        "    valores_validos = 0\n",
        "    while valores_validos < 2:\n",
        "      corte = randint(1,30)\n",
        "      novo_bit_a = bit_a[0:corte]\n",
        "      novo_bit_a.extend(bit_b[corte:])\n",
        "      novo_bit_b = bit_b[0:corte]\n",
        "      novo_bit_b.extend(bit_a[corte:])\n",
        "\n",
        "      novo_int_a = bit_to_int(novo_bit_a)\n",
        "      novo_int_b = bit_to_int(novo_bit_b)\n",
        "      \n",
        "      if novo_a is None:\n",
        "        if novo_int_a >= -10 and novo_int_a <= 10:\n",
        "          valores_validos = valores_validos + 1\n",
        "          novo_a = novo_int_a\n",
        "\n",
        "      if novo_b is None:\n",
        "        if novo_int_b >= -10 and novo_int_b <= 10:\n",
        "          valores_validos = valores_validos + 1\n",
        "          novo_b = novo_int_b\n",
        "    return [novo_a, novo_b]\n",
        "  else:\n",
        "    return pair"
      ],
      "execution_count": 89,
      "outputs": []
    },
    {
      "cell_type": "code",
      "metadata": {
        "id": "w2geWJHNPTQj"
      },
      "source": [
        "def mutation(value: int, probability: float = 0.99) -> int:\n",
        "  if random() >= probability:\n",
        "    valido = False\n",
        "    while True:\n",
        "      new_value = randint(-10, 10)\n",
        "      if new_value != value:\n",
        "        return new_value\n",
        "  else:\n",
        "    return value"
      ],
      "execution_count": 90,
      "outputs": []
    },
    {
      "cell_type": "markdown",
      "metadata": {
        "id": "AWdOVkF4SSEZ"
      },
      "source": [
        "## Execução"
      ]
    },
    {
      "cell_type": "code",
      "metadata": {
        "id": "_vHZIAwCVTvl"
      },
      "source": [
        "def run_gen(population: Population) -> Population:\n",
        "  fitness = population_fitness(population)\n",
        "  best_pair, best_fit = selection_pair(population, fitness)\n",
        "  new_pop = new_generation(best_pair)\n",
        "  mutated_pop = []\n",
        "  for value in new_pop:\n",
        "    mutated_pop.append(mutation(value))  \n",
        "\n",
        "  return best_pair[0], best_fit, mutated_pop"
      ],
      "execution_count": 91,
      "outputs": []
    },
    {
      "cell_type": "code",
      "metadata": {
        "id": "KVhJ8eRwVeXJ"
      },
      "source": [
        "population = generate_population(population_length)\n",
        "top_value = None\n",
        "top_fit = None\n",
        "on_geneneration = None"
      ],
      "execution_count": 96,
      "outputs": []
    },
    {
      "cell_type": "code",
      "metadata": {
        "colab": {
          "base_uri": "https://localhost:8080/"
        },
        "id": "6yVy31_FVmJl",
        "outputId": "24445b4e-34fb-4a90-d2ef-c66fb007256e"
      },
      "source": [
        "for gen in range(5):\n",
        "  best_genome, best_fit, population = run_gen(population)\n",
        "  print(f'Generation: {gen} | Best Fit: {best_fit} | Valor: {best_genome}')\n",
        "  if top_fit is None:\n",
        "    top_fit = best_fit\n",
        "    top_genome = best_genome\n",
        "    on_geneneration = gen\n",
        "  elif best_fit < top_fit:\n",
        "    top_fit = best_fit\n",
        "    top_genome = best_genome\n",
        "    on_geneneration = gen\n",
        "\n",
        "  if best_fit == 0:\n",
        "    break\n",
        "\n",
        "print(f'Best results found on {on_geneneration} generation with ' \\\n",
        "  f'fitness of {top_fit} on {top_genome} value')"
      ],
      "execution_count": 98,
      "outputs": [
        {
          "output_type": "stream",
          "text": [
            "Generation: 0 | Best Fit: 4 | Valor: 0\n",
            "Generation: 1 | Best Fit: 4 | Valor: 0\n",
            "Generation: 2 | Best Fit: 2 | Valor: 2\n",
            "Generation: 3 | Best Fit: 2 | Valor: 2\n",
            "Generation: 4 | Best Fit: 2 | Valor: 2\n",
            "Best results found on 2 generation with fitness of 2 on 2 value\n"
          ],
          "name": "stdout"
        }
      ]
    },
    {
      "cell_type": "code",
      "metadata": {
        "id": "eQIUIH0kVLRj"
      },
      "source": [
        ""
      ],
      "execution_count": null,
      "outputs": []
    }
  ]
}